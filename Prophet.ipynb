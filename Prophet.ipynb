{
 "cells": [
  {
   "cell_type": "markdown",
   "metadata": {
    "application/vnd.databricks.v1+cell": {
     "cellMetadata": {
      "byteLimit": 2048000,
      "rowLimit": 10000
     },
     "inputWidgets": {},
     "nuid": "ecc372b0-2117-48a6-9078-442b60f61d26",
     "showTitle": false,
     "title": ""
    }
   },
   "source": [
    "Forecast Annual Visition at Utah National Parks"
   ]
  },
  {
   "cell_type": "code",
   "execution_count": 0,
   "metadata": {
    "application/vnd.databricks.v1+cell": {
     "cellMetadata": {
      "byteLimit": 2048000,
      "rowLimit": 10000
     },
     "inputWidgets": {},
     "nuid": "73b6c1d7-98eb-4395-a96a-d1d0d7f3a872",
     "showTitle": false,
     "title": ""
    }
   },
   "outputs": [],
   "source": [
    "import pandas as pd\n",
    "import os\n",
    "import datetime as dt\n",
    "import matplotlib.pyplot as plt\n",
    "import numpy as np"
   ]
  },
  {
   "cell_type": "markdown",
   "metadata": {
    "application/vnd.databricks.v1+cell": {
     "cellMetadata": {
      "byteLimit": 2048000,
      "rowLimit": 10000
     },
     "inputWidgets": {},
     "nuid": "47462e8c-eda8-4637-9100-7c02ab64988b",
     "showTitle": false,
     "title": ""
    }
   },
   "source": [
    "# Ingest Data"
   ]
  },
  {
   "cell_type": "markdown",
   "metadata": {
    "application/vnd.databricks.v1+cell": {
     "cellMetadata": {
      "byteLimit": 2048000,
      "rowLimit": 10000
     },
     "inputWidgets": {},
     "nuid": "995cad00-916f-4eed-a75b-712882e31cce",
     "showTitle": false,
     "title": ""
    }
   },
   "source": [
    "Visition data for each park is stored in its own csv file. We collect all data into a single pandas dataframe"
   ]
  },
  {
   "cell_type": "code",
   "execution_count": 0,
   "metadata": {
    "application/vnd.databricks.v1+cell": {
     "cellMetadata": {
      "byteLimit": 2048000,
      "rowLimit": 10000
     },
     "inputWidgets": {},
     "nuid": "43d068f0-2bdc-4dbb-934b-8772fe424a6c",
     "showTitle": false,
     "title": ""
    }
   },
   "outputs": [],
   "source": [
    "# all files in directory\n",
    "all_files = os.listdir()\n",
    "\n",
    "# just the csv's with data\n",
    "csv_files = [file for file in all_files if file.endswith(\".csv\")]"
   ]
  },
  {
   "cell_type": "code",
   "execution_count": 0,
   "metadata": {
    "application/vnd.databricks.v1+cell": {
     "cellMetadata": {
      "byteLimit": 2048000,
      "rowLimit": 10000
     },
     "inputWidgets": {},
     "nuid": "c8a9a2be-99e0-4b88-b3ae-db3eda77607c",
     "showTitle": false,
     "title": ""
    }
   },
   "outputs": [],
   "source": [
    "# initialize the final dataset and types\n",
    "\n",
    "# set columns and types\n",
    "data = [\"ts\", \"visitors\", \"park\"]\n",
    "\n",
    "# make dataframe\n",
    "df_visit = pd.DataFrame(columns=data)"
   ]
  },
  {
   "cell_type": "code",
   "execution_count": 0,
   "metadata": {
    "application/vnd.databricks.v1+cell": {
     "cellMetadata": {
      "byteLimit": 2048000,
      "rowLimit": 10000
     },
     "inputWidgets": {},
     "nuid": "7ef45ee7-0819-4145-bb5d-58e35e998399",
     "showTitle": false,
     "title": ""
    }
   },
   "outputs": [],
   "source": [
    "# loop through datasets\n",
    "\n",
    "for f in csv_files:\n",
    "\n",
    "    # extract name of park from data\n",
    "    park_name = pd.read_csv(f, nrows=1).iloc[0, 0]\n",
    "    # trim the ' NP' from park name\n",
    "    park_name = park_name[:-3]\n",
    "\n",
    "    # read data\n",
    "    df = pd.read_csv(f, skiprows=3)\n",
    "    # drop last column since it's a row-wise sum\n",
    "    df.drop(df.columns[-1], axis=1, inplace=True)\n",
    "    # rename id column\n",
    "    df.rename(columns={\"Year\": \"year\"}, inplace=True)\n",
    "\n",
    "    # pivot data\n",
    "    df_pivot = df.melt(\n",
    "        id_vars=\"year\", var_name=\"month_abbr\", value_name=\"visitors\"\n",
    "    ).dropna()\n",
    "\n",
    "    # clean data\n",
    "    # extract month number from month name\n",
    "    def extract_month_number(month_name):\n",
    "        return pd.to_datetime(month_name, format=\"%b\").month\n",
    "\n",
    "    df_pivot[\"month_num\"] = df_pivot[\"month_abbr\"].apply(extract_month_number)\n",
    "    # make timestamp\n",
    "    df_pivot[\"ts\"] = pd.to_datetime(\n",
    "        dict(year=df_pivot.year, month=df_pivot.month_num, day=1)\n",
    "    )\n",
    "    # convert visitors to numeric\n",
    "    df_pivot[\"visitors\"] = pd.to_numeric(df_pivot[\"visitors\"].str.replace(\",\", \"\"))\n",
    "    # add park identifier\n",
    "    df_pivot[\"park\"] = park_name\n",
    "    # select needed columns\n",
    "    df_final = df_pivot[[\"ts\", \"visitors\", \"park\"]]\n",
    "\n",
    "    df_visit = pd.concat([df_visit, df_final], ignore_index=True)"
   ]
  },
  {
   "cell_type": "code",
   "execution_count": 0,
   "metadata": {
    "application/vnd.databricks.v1+cell": {
     "cellMetadata": {
      "byteLimit": 2048000,
      "rowLimit": 10000
     },
     "inputWidgets": {},
     "nuid": "c53316dc-ba7a-466b-80db-50035ec915a9",
     "showTitle": false,
     "title": ""
    }
   },
   "outputs": [],
   "source": [
    "# clean data types\n",
    "df_visit = df_visit.convert_dtypes()"
   ]
  },
  {
   "cell_type": "markdown",
   "metadata": {
    "application/vnd.databricks.v1+cell": {
     "cellMetadata": {
      "byteLimit": 2048000,
      "rowLimit": 10000
     },
     "inputWidgets": {},
     "nuid": "d8b89db9-4370-4283-9ad2-633b3d66623f",
     "showTitle": false,
     "title": ""
    }
   },
   "source": [
    "# Exploratory Data Analysis"
   ]
  },
  {
   "cell_type": "code",
   "execution_count": 0,
   "metadata": {
    "application/vnd.databricks.v1+cell": {
     "cellMetadata": {
      "byteLimit": 2048000,
      "rowLimit": 10000
     },
     "inputWidgets": {},
     "nuid": "1f08bdb0-2f99-4797-9536-7f65ea841052",
     "showTitle": false,
     "title": ""
    }
   },
   "outputs": [],
   "source": [
    "# set colors\n",
    "# use brand colors of Mighty 5 campaign (https://www.visitutah.com/places-to-go/parks-outdoors/the-mighty-5)\n",
    "orange = \"#ed6417\"\n",
    "d_blue = \"#012d50\"\n",
    "red = \"#772116\"\n",
    "l_blue = \"#51b8f3\"\n",
    "gray = \"#516c85\"\n",
    "\n",
    "colors = [orange, d_blue, red, l_blue, gray]"
   ]
  },
  {
   "cell_type": "markdown",
   "metadata": {
    "application/vnd.databricks.v1+cell": {
     "cellMetadata": {
      "byteLimit": 2048000,
      "rowLimit": 10000
     },
     "inputWidgets": {},
     "nuid": "3f302379-6bfc-4d69-89ee-65bc9d7ee6e4",
     "showTitle": false,
     "title": ""
    }
   },
   "source": [
    "## Overall Visitation"
   ]
  },
  {
   "cell_type": "markdown",
   "metadata": {
    "application/vnd.databricks.v1+cell": {
     "cellMetadata": {
      "byteLimit": 2048000,
      "rowLimit": 10000
     },
     "inputWidgets": {},
     "nuid": "2ac2c52f-0bff-430a-a9ce-576332ec399a",
     "showTitle": false,
     "title": ""
    }
   },
   "source": [
    "We have data starting in 1979 for each park. Each has a monthly observation through March 2024"
   ]
  },
  {
   "cell_type": "code",
   "execution_count": 0,
   "metadata": {
    "application/vnd.databricks.v1+cell": {
     "cellMetadata": {
      "byteLimit": 2048000,
      "rowLimit": 10000
     },
     "inputWidgets": {},
     "nuid": "717c4603-fd40-477d-8f9c-5be136d53739",
     "showTitle": false,
     "title": ""
    }
   },
   "outputs": [],
   "source": [
    "(\n",
    "    df_visit.groupby(\"park\")\n",
    "    .agg(\n",
    "        tot_visitors=(\"visitors\", \"sum\"),\n",
    "        ts_min=(\"ts\", \"min\"),\n",
    "        ts_max=(\"ts\", \"max\"),\n",
    "        tot_months=(\"ts\", \"count\"),\n",
    "    )\n",
    "    .sort_values(\"tot_visitors\", ascending=False)\n",
    ")"
   ]
  },
  {
   "cell_type": "markdown",
   "metadata": {
    "application/vnd.databricks.v1+cell": {
     "cellMetadata": {
      "byteLimit": 2048000,
      "rowLimit": 10000
     },
     "inputWidgets": {},
     "nuid": "31d60e83-6143-4762-92f3-f6f446e2a100",
     "showTitle": false,
     "title": ""
    }
   },
   "source": [
    "Visitation grew in the late 80's and stabilized for about 20 years. It then spiked in the 2010's with the Mighty 5 campaign.\n",
    "\n",
    "There was a dip in 2020 due to covid retrictions"
   ]
  },
  {
   "cell_type": "code",
   "execution_count": 0,
   "metadata": {
    "application/vnd.databricks.v1+cell": {
     "cellMetadata": {
      "byteLimit": 2048000,
      "rowLimit": 10000
     },
     "inputWidgets": {},
     "nuid": "890bba13-56b1-455a-b809-1c5c2208bd0c",
     "showTitle": false,
     "title": ""
    }
   },
   "outputs": [],
   "source": [
    "visits_by_year = (\n",
    "    df_visit.loc[\n",
    "        (df_visit[\"ts\"].dt.year < 2024)\n",
    "    ]  # filter current year since it's incomplete\n",
    "    .groupby(df_visit[\"ts\"].dt.year)\n",
    "    .agg(tot_visitors=(\"visitors\", \"sum\"))\n",
    "    .reset_index()\n",
    "    .rename(columns={\"ts\": \"year\"})\n",
    ")\n",
    "\n",
    "visits_by_year[\"ms_visitors\"] = visits_by_year[\"tot_visitors\"] / 1000000  # get M's\n",
    "\n",
    "# Create the bar plot\n",
    "fig, ax = plt.subplots(figsize=(10, 4))\n",
    "\n",
    "ax.bar(visits_by_year[\"year\"], visits_by_year[\"ms_visitors\"], color=[orange])\n",
    "\n",
    "ax.set_title(\"Total Visits by Year (M's)\", fontsize=14, loc=\"left\")\n",
    "\n",
    "# Display the plot\n",
    "plt.show()"
   ]
  },
  {
   "cell_type": "markdown",
   "metadata": {
    "application/vnd.databricks.v1+cell": {
     "cellMetadata": {
      "byteLimit": 2048000,
      "rowLimit": 10000
     },
     "inputWidgets": {},
     "nuid": "6d9c8c25-a291-4253-8172-ea019af2c12d",
     "showTitle": false,
     "title": ""
    }
   },
   "source": [
    "## Visitation by Park"
   ]
  },
  {
   "cell_type": "markdown",
   "metadata": {
    "application/vnd.databricks.v1+cell": {
     "cellMetadata": {
      "byteLimit": 2048000,
      "rowLimit": 10000
     },
     "inputWidgets": {},
     "nuid": "ce4e7703-1814-4486-8350-620d274b4d96",
     "showTitle": false,
     "title": ""
    }
   },
   "source": [
    "All parks experienced a similar growth **trend** in visitation.   \n",
    "\n",
    "The ranking of the parks has remained stable for nearly the whole dataset. Zion is the most visited and Canyonlands the least"
   ]
  },
  {
   "cell_type": "code",
   "execution_count": 0,
   "metadata": {
    "application/vnd.databricks.v1+cell": {
     "cellMetadata": {
      "byteLimit": 2048000,
      "rowLimit": 10000
     },
     "inputWidgets": {},
     "nuid": "5fdfbe8c-d193-4cce-908d-c9a5e5a74ae5",
     "showTitle": false,
     "title": ""
    }
   },
   "outputs": [],
   "source": [
    "visits_by_year_by_park = (\n",
    "    df_visit.loc[\n",
    "        (df_visit[\"ts\"].dt.year < 2024)\n",
    "    ]  # filter current year since it's incomplete\n",
    "    .groupby([df_visit[\"ts\"].dt.year, \"park\"])\n",
    "    .agg(tot_visitors=(\"visitors\", \"sum\"))\n",
    "    .reset_index()\n",
    "    .rename(columns={\"ts\": \"year\"})\n",
    ")\n",
    "\n",
    "visits_by_year_by_park[\"ms_visitors\"] = (\n",
    "    visits_by_year_by_park[\"tot_visitors\"] / 1000000\n",
    ")  # get M's\n",
    "\n",
    "# Create the line plot\n",
    "fig, ax = plt.subplots(figsize=(10, 4))\n",
    "\n",
    "i = 0\n",
    "\n",
    "for park, data in visits_by_year_by_park.groupby(\"park\"):\n",
    "    ax.plot(data[\"year\"], data[\"ms_visitors\"], label=park, color=colors[i])\n",
    "    i += 1\n",
    "\n",
    "ax.set_title(\"Total Visits Over Time by Park (M's)\", fontsize=14, loc=\"left\")\n",
    "\n",
    "ax.axvline(2020, color=\"gray\", linestyle=\":\")\n",
    "ax.text(2020, 5, \"Covid \", horizontalalignment=\"right\", verticalalignment=\"center\")\n",
    "\n",
    "ax.legend()\n",
    "\n",
    "# Display the plot\n",
    "plt.show()"
   ]
  },
  {
   "cell_type": "markdown",
   "metadata": {
    "application/vnd.databricks.v1+cell": {
     "cellMetadata": {
      "byteLimit": 2048000,
      "rowLimit": 10000
     },
     "inputWidgets": {},
     "nuid": "1b4c0f0d-cdfb-4a73-8450-c0f36669942c",
     "showTitle": false,
     "title": ""
    }
   },
   "source": [
    "There is clear **seasonality** in visitation.\n",
    "\n",
    "Visits increase during the summer months"
   ]
  },
  {
   "cell_type": "code",
   "execution_count": 0,
   "metadata": {
    "application/vnd.databricks.v1+cell": {
     "cellMetadata": {
      "byteLimit": 2048000,
      "rowLimit": 10000
     },
     "inputWidgets": {},
     "nuid": "e1ec839e-1491-4473-8aaa-5d1441399eaa",
     "showTitle": false,
     "title": ""
    }
   },
   "outputs": [],
   "source": [
    "visits_by_month_by_park = (\n",
    "    df_visit.loc[df_visit[\"ts\"].dt.year < 2024] # filter current year since it's incomplete\n",
    "    .assign(month=df_visit[\"ts\"].dt.month)\n",
    "    .assign(month_name=df_visit['ts'].dt.strftime('%b'))\n",
    "    .groupby(['month', 'month_name', 'park'])\n",
    "    .agg(avg_visitors=(\"visitors\", \"mean\"))\n",
    "    .reset_index()\n",
    ")\n",
    "\n",
    "visits_by_month_by_park[\"ks_visitors\"] = (\n",
    "    visits_by_month_by_park[\"avg_visitors\"] / 1000\n",
    ")  # get K's\n",
    "\n",
    "#sort by order of months\n",
    "visits_by_month_by_park = visits_by_month_by_park.sort_values(\"month\")\n",
    "\n",
    "# Create the line plot\n",
    "fig, ax = plt.subplots(figsize=(10, 4))\n",
    "\n",
    "i = 0\n",
    "\n",
    "#plot each series\n",
    "for park, data in visits_by_month_by_park.groupby(\"park\"):\n",
    "    ax.plot(data[\"month_name\"], data[\"ks_visitors\"], label=park, color=colors[i])\n",
    "    i += 1\n",
    "\n",
    "#set labels\n",
    "ax.set_title(\"Avg. Visits by Month by Park (K's)\", fontsize=14, loc=\"left\")\n",
    "ax.set_xlabel(\"Month\")\n",
    "ax.set_ylabel(\"Visitors (K's)\")\n",
    "\n",
    "ax.legend()\n",
    "\n",
    "# Display the plot\n",
    "plt.show()"
   ]
  },
  {
   "cell_type": "markdown",
   "metadata": {
    "application/vnd.databricks.v1+cell": {
     "cellMetadata": {
      "byteLimit": 2048000,
      "rowLimit": 10000
     },
     "inputWidgets": {},
     "nuid": "a5be6d57-38cc-4145-a652-57d2e3bb520a",
     "showTitle": false,
     "title": ""
    }
   },
   "source": [
    "Here is the overall visition by park.\n",
    "\n",
    "Notice the increasing trend and strong seasonality"
   ]
  },
  {
   "cell_type": "code",
   "execution_count": 0,
   "metadata": {
    "application/vnd.databricks.v1+cell": {
     "cellMetadata": {
      "byteLimit": 2048000,
      "rowLimit": 10000
     },
     "inputWidgets": {},
     "nuid": "f1f34c07-2d2f-4d42-91a6-fe371e514da7",
     "showTitle": false,
     "title": ""
    }
   },
   "outputs": [],
   "source": [
    "df_total = df_visit.copy()\n",
    "\n",
    "df_total[\"ks_visitors\"] = (\n",
    "    df_total[\"visitors\"] / 1000\n",
    ")  # get K's\n",
    "\n",
    "#sort on ts\n",
    "df_total = df_total.sort_values(\"ts\")\n",
    "\n",
    "# Create the line plot\n",
    "fig, ax = plt.subplots(figsize=(15, 4))\n",
    "\n",
    "i = 0\n",
    "\n",
    "#plot each series\n",
    "for park, data in df_total.groupby(\"park\"):\n",
    "    ax.plot(data[\"ts\"], data[\"ks_visitors\"], label=park, color=colors[i])\n",
    "    i += 1\n",
    "\n",
    "#set labels\n",
    "ax.set_title(\"Timeseries by Park (K's)\", fontsize=14, loc=\"left\")\n",
    "ax.set_xlabel(\"Time\")\n",
    "ax.set_ylabel(\"Visitors (K's)\")\n",
    "\n",
    "ax.legend()\n",
    "\n",
    "# Display the plot\n",
    "plt.show()"
   ]
  },
  {
   "cell_type": "markdown",
   "metadata": {
    "application/vnd.databricks.v1+cell": {
     "cellMetadata": {
      "byteLimit": 2048000,
      "rowLimit": 10000
     },
     "inputWidgets": {},
     "nuid": "2c0acc8b-a41c-4afa-b83d-47720bba6cea",
     "showTitle": false,
     "title": ""
    }
   },
   "source": [
    "Let's zoom in on that covid year.\n",
    "\n",
    "The total visition was down and the peak visitation shifted to later in the year. We'll have to account for that in the model"
   ]
  },
  {
   "cell_type": "code",
   "execution_count": 0,
   "metadata": {
    "application/vnd.databricks.v1+cell": {
     "cellMetadata": {
      "byteLimit": 2048000,
      "rowLimit": 10000
     },
     "inputWidgets": {},
     "nuid": "8ed04629-7d90-4113-81fc-3c2ead1cb50f",
     "showTitle": false,
     "title": ""
    }
   },
   "outputs": [],
   "source": [
    "df_covid = df_visit.copy()\n",
    "\n",
    "df_covid[\"ks_visitors\"] = (\n",
    "    df_covid[\"visitors\"] / 1000\n",
    ")  # get K's\n",
    "\n",
    "df_covid = (\n",
    "  df_covid.loc[df_covid[\"ts\"].dt.year > 2018] # filter to covid range\n",
    ")\n",
    "\n",
    "#sort on ts\n",
    "df_covid = df_covid.sort_values(\"ts\")\n",
    "\n",
    "# Create the line plot\n",
    "fig, ax = plt.subplots(figsize=(12, 4))\n",
    "\n",
    "i = 0\n",
    "\n",
    "#plot each series\n",
    "for park, data in df_covid.groupby(\"park\"):\n",
    "    ax.plot(data[\"ts\"], data[\"ks_visitors\"], label=park, color=colors[i])\n",
    "    i += 1\n",
    "\n",
    "#set labels\n",
    "ax.set_title(\"Timeseries by Park (K's)\", fontsize=14, loc=\"left\")\n",
    "ax.set_xlabel(\"Time\")\n",
    "ax.set_ylabel(\"Visitors (K's)\")\n",
    "\n",
    "ax.legend(loc='upper right', bbox_to_anchor=(1.18, 1)) # Set the legend position outside the plot area\n",
    "\n",
    "covid_start = '2020-01-01'\n",
    "covid_end = '2020-11-01'\n",
    "ax.axvline(np.datetime64(covid_start), color=\"gray\", linestyle=\":\")\n",
    "ax.axvline(np.datetime64(covid_end), color=\"gray\", linestyle=\":\")\n",
    "ax.text(np.datetime64(covid_start), 540, \" Covid Shift -->\", horizontalalignment=\"left\")\n",
    "\n",
    "# Display the plot\n",
    "plt.show()"
   ]
  },
  {
   "cell_type": "markdown",
   "metadata": {
    "application/vnd.databricks.v1+cell": {
     "cellMetadata": {
      "byteLimit": 2048000,
      "rowLimit": 10000
     },
     "inputWidgets": {},
     "nuid": "9597fc1a-aad3-464d-a64e-dc3d8d949410",
     "showTitle": false,
     "title": ""
    }
   },
   "source": [
    "# Modeling"
   ]
  },
  {
   "cell_type": "markdown",
   "metadata": {
    "application/vnd.databricks.v1+cell": {
     "cellMetadata": {
      "byteLimit": 2048000,
      "rowLimit": 10000
     },
     "inputWidgets": {},
     "nuid": "1f5ea5ef-55e5-498f-9496-91416b712fba",
     "showTitle": false,
     "title": ""
    }
   },
   "source": [
    "For this project, I will be using the Prophet algorithm developed by meta. Read the docs [here](https://facebook.github.io/prophet/).\n",
    "\n",
    "The algorithm takes a bayesian approach to estimating the trend and seasonality of the time series to inference future values. "
   ]
  },
  {
   "cell_type": "markdown",
   "metadata": {
    "application/vnd.databricks.v1+cell": {
     "cellMetadata": {
      "byteLimit": 2048000,
      "rowLimit": 10000
     },
     "inputWidgets": {},
     "nuid": "6e740495-10bf-41e3-b6be-66e8d168a907",
     "showTitle": false,
     "title": ""
    }
   },
   "source": [
    "import packages for time series modeling"
   ]
  },
  {
   "cell_type": "code",
   "execution_count": 0,
   "metadata": {
    "application/vnd.databricks.v1+cell": {
     "cellMetadata": {
      "byteLimit": 2048000,
      "rowLimit": 10000
     },
     "inputWidgets": {},
     "nuid": "10b5aede-0bb4-4045-9b59-0c8eebd1371d",
     "showTitle": false,
     "title": ""
    }
   },
   "outputs": [],
   "source": [
    "from prophet import Prophet"
   ]
  },
  {
   "cell_type": "markdown",
   "metadata": {
    "application/vnd.databricks.v1+cell": {
     "cellMetadata": {
      "byteLimit": 2048000,
      "rowLimit": 10000
     },
     "inputWidgets": {},
     "nuid": "8369f226-6e57-4b81-9663-f2bebea0dd58",
     "showTitle": false,
     "title": ""
    }
   },
   "source": [
    "Let's set up a dataframe with the time series for just one park for a simple example "
   ]
  },
  {
   "cell_type": "code",
   "execution_count": 0,
   "metadata": {
    "application/vnd.databricks.v1+cell": {
     "cellMetadata": {
      "byteLimit": 2048000,
      "rowLimit": 10000
     },
     "inputWidgets": {},
     "nuid": "d6a4d881-eea2-4e53-ab78-90281f9a5576",
     "showTitle": false,
     "title": ""
    }
   },
   "outputs": [],
   "source": [
    "park = 'Arches'\n",
    "\n",
    "df_arches = (\n",
    "    df_visit.loc[(df_visit[\"park\"] == park)]\n",
    "    .rename(columns={\"visitors\": \"y\",\n",
    "                     \"ts\": \"ds\"}) #rename for prophet\n",
    "    .sort_values('ds')\n",
    ")\n",
    "\n",
    "df_arches"
   ]
  },
  {
   "cell_type": "markdown",
   "metadata": {
    "application/vnd.databricks.v1+cell": {
     "cellMetadata": {
      "byteLimit": 2048000,
      "rowLimit": 10000
     },
     "inputWidgets": {},
     "nuid": "86ac9fab-a353-4eaa-8e3e-d8e5425a8660",
     "showTitle": false,
     "title": ""
    }
   },
   "source": [
    "## Base Model"
   ]
  },
  {
   "cell_type": "markdown",
   "metadata": {
    "application/vnd.databricks.v1+cell": {
     "cellMetadata": {
      "byteLimit": 2048000,
      "rowLimit": 10000
     },
     "inputWidgets": {},
     "nuid": "cef1ea57-9254-47a8-a167-e7efccd58aa4",
     "showTitle": false,
     "title": ""
    }
   },
   "source": [
    "Let's do a base model with the standard parameters"
   ]
  },
  {
   "cell_type": "code",
   "execution_count": 0,
   "metadata": {
    "application/vnd.databricks.v1+cell": {
     "cellMetadata": {
      "byteLimit": 2048000,
      "rowLimit": 10000
     },
     "inputWidgets": {},
     "nuid": "614c2a02-4ae1-4b25-89a4-746eaf44b6ce",
     "showTitle": false,
     "title": ""
    }
   },
   "outputs": [],
   "source": [
    "\n",
    "model = Prophet() #instantiate a model\n",
    "model.fit(df_arches) #fit onto the historical data\n",
    "\n",
    "periods = 33 #forecast 33 months into the future (through 2026)\n",
    "future = model.make_future_dataframe(periods=periods, freq = 'MS') #make a monthly future dataset\n",
    "forecast = model.predict(future) #predict over future dates"
   ]
  },
  {
   "cell_type": "markdown",
   "metadata": {
    "application/vnd.databricks.v1+cell": {
     "cellMetadata": {
      "byteLimit": 2048000,
      "rowLimit": 10000
     },
     "inputWidgets": {},
     "nuid": "c5933bf9-51f0-4573-a4f6-ab7a5b534b3a",
     "showTitle": false,
     "title": ""
    }
   },
   "source": [
    "Let's explore the forecast"
   ]
  },
  {
   "cell_type": "markdown",
   "metadata": {
    "application/vnd.databricks.v1+cell": {
     "cellMetadata": {
      "byteLimit": 2048000,
      "rowLimit": 10000
     },
     "inputWidgets": {},
     "nuid": "7900bb75-98cd-44f8-94e7-64023beefb0f",
     "showTitle": false,
     "title": ""
    }
   },
   "source": [
    "Let's break down this chart:\n",
    "- the solid blue line is the forecasted yhat value\n",
    "- the light blue line is the uncertainty\n",
    "- the black dots are the actual observed values\n",
    "- time is on the x-axis and visitors is on the y-axis\n",
    "\n",
    "The model seems to do a poor job at the beginning and end of the series. This suggests a multiplicative growth instead of an additive growth could do better"
   ]
  },
  {
   "cell_type": "code",
   "execution_count": 0,
   "metadata": {
    "application/vnd.databricks.v1+cell": {
     "cellMetadata": {
      "byteLimit": 2048000,
      "rowLimit": 10000
     },
     "inputWidgets": {},
     "nuid": "77d18c6f-380d-4a1b-904e-3d0b923f8f58",
     "showTitle": false,
     "title": ""
    }
   },
   "outputs": [],
   "source": [
    "plt = model.plot(forecast)"
   ]
  },
  {
   "cell_type": "markdown",
   "metadata": {
    "application/vnd.databricks.v1+cell": {
     "cellMetadata": {
      "byteLimit": 2048000,
      "rowLimit": 10000
     },
     "inputWidgets": {},
     "nuid": "79eaeedb-5d44-4c34-9bb1-9b90e1ac8c19",
     "showTitle": false,
     "title": ""
    }
   },
   "source": [
    "Here we can see the model picked up the linerar trend of growing visitors. It also found the seasonlity we discovered during our eploratry analysis"
   ]
  },
  {
   "cell_type": "code",
   "execution_count": 0,
   "metadata": {
    "application/vnd.databricks.v1+cell": {
     "cellMetadata": {
      "byteLimit": 2048000,
      "rowLimit": 10000
     },
     "inputWidgets": {},
     "nuid": "a4876f31-0e83-4582-bdc3-7c03aa690693",
     "showTitle": false,
     "title": ""
    }
   },
   "outputs": [],
   "source": [
    "plt = model.plot_components(forecast)"
   ]
  },
  {
   "cell_type": "code",
   "execution_count": 0,
   "metadata": {
    "application/vnd.databricks.v1+cell": {
     "cellMetadata": {
      "byteLimit": 2048000,
      "rowLimit": 10000
     },
     "inputWidgets": {},
     "nuid": "68dcbe20-0b44-42ac-9142-a6df63681fe1",
     "showTitle": false,
     "title": ""
    }
   },
   "outputs": [],
   "source": [
    "df_arches.count()"
   ]
  }
 ],
 "metadata": {
  "application/vnd.databricks.v1+notebook": {
   "dashboards": [],
   "environmentMetadata": null,
   "language": "python",
   "notebookMetadata": {
    "pythonIndentUnit": 4
   },
   "notebookName": "Prophet",
   "widgets": {}
  },
  "kernelspec": {
   "display_name": "Python 3 (ipykernel)",
   "language": "python",
   "name": "python3"
  },
  "language_info": {
   "codemirror_mode": {
    "name": "ipython",
    "version": 3
   },
   "file_extension": ".py",
   "mimetype": "text/x-python",
   "name": "python",
   "nbconvert_exporter": "python",
   "pygments_lexer": "ipython3",
   "version": "3.7.0"
  },
  "toc": {
   "base_numbering": 1,
   "nav_menu": {},
   "number_sections": true,
   "sideBar": true,
   "skip_h1_title": false,
   "title_cell": "Table of Contents",
   "title_sidebar": "Contents",
   "toc_cell": false,
   "toc_position": {},
   "toc_section_display": true,
   "toc_window_display": false
  },
  "varInspector": {
   "cols": {
    "lenName": 16,
    "lenType": 16,
    "lenVar": 40
   },
   "kernels_config": {
    "python": {
     "delete_cmd_postfix": "",
     "delete_cmd_prefix": "del ",
     "library": "var_list.py",
     "varRefreshCmd": "print(var_dic_list())"
    },
    "r": {
     "delete_cmd_postfix": ") ",
     "delete_cmd_prefix": "rm(",
     "library": "var_list.r",
     "varRefreshCmd": "cat(var_dic_list()) "
    }
   },
   "types_to_exclude": [
    "module",
    "function",
    "builtin_function_or_method",
    "instance",
    "_Feature"
   ],
   "window_display": false
  }
 },
 "nbformat": 4,
 "nbformat_minor": 0
}
