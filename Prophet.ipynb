{
 "cells": [
  {
   "cell_type": "markdown",
   "id": "d8c8fc12",
   "metadata": {},
   "source": [
    "Forecast Annual Visition at Utah National Parks"
   ]
  },
  {
   "cell_type": "code",
   "execution_count": 123,
   "id": "562a29ee",
   "metadata": {},
   "outputs": [],
   "source": [
    "import pandas as pd\n",
    "import os\n",
    "import datetime as dt\n",
    "import matplotlib.pyplot as plt"
   ]
  },
  {
   "cell_type": "markdown",
   "id": "12f47306",
   "metadata": {},
   "source": [
    "# Ingest Data"
   ]
  },
  {
   "cell_type": "markdown",
   "id": "19331481",
   "metadata": {},
   "source": [
    "Visition data for each park is stored in its own csv file. We collect all data into a single pandas dataframe"
   ]
  },
  {
   "cell_type": "code",
   "execution_count": 94,
   "id": "e19a91df",
   "metadata": {},
   "outputs": [],
   "source": [
    "#all files in directory\n",
    "all_files = os.listdir()\n",
    "\n",
    "#just the csv's with data\n",
    "csv_files = [file for file in all_files if file.endswith(\".csv\")]"
   ]
  },
  {
   "cell_type": "code",
   "execution_count": 95,
   "id": "49275567",
   "metadata": {},
   "outputs": [],
   "source": [
    "#initialize the final dataset and types\n",
    "\n",
    "#set columns and types\n",
    "data = ['ts', 'visitors', 'park']\n",
    "\n",
    "#make dataframe\n",
    "df_visit = pd.DataFrame(columns=data)"
   ]
  },
  {
   "cell_type": "code",
   "execution_count": 96,
   "id": "1db36c3c",
   "metadata": {},
   "outputs": [],
   "source": [
    "#loop through datasets\n",
    "\n",
    "for f in csv_files:\n",
    "\n",
    "    #extract name of park from data\n",
    "    park_name = pd.read_csv(f, nrows=1).iloc[0,0]\n",
    "    #trim the ' NP' from park name\n",
    "    park_name = park_name[:-3]\n",
    "\n",
    "    #read data\n",
    "    df = pd.read_csv(f, skiprows=3)\n",
    "    #drop last column since it's a row-wise sum\n",
    "    df.drop(df.columns[-1], axis=1, inplace=True)\n",
    "    #rename id column\n",
    "    df.rename(columns={'Year':'year'}, inplace=True)\n",
    "\n",
    "    #pivot data\n",
    "    df_pivot = df.melt(id_vars='year', var_name='month_abbr', value_name='visitors').dropna()\n",
    "\n",
    "    #clean data\n",
    "    #extract month number from month name\n",
    "    def extract_month_number(month_name):\n",
    "        return pd.to_datetime(month_name, format='%b').month\n",
    "    \n",
    "    df_pivot['month_num'] = df_pivot['month_abbr'].apply(extract_month_number)\n",
    "    #make timestamp\n",
    "    df_pivot['ts'] = pd.to_datetime(dict(year=df_pivot.year, month=df_pivot.month_num, day=1))\n",
    "    #convert visitors to numeric\n",
    "    df_pivot['visitors'] = pd.to_numeric(df_pivot['visitors'].str.replace(',', ''))\n",
    "    #add park identifier\n",
    "    df_pivot['park'] = park_name\n",
    "    #select needed columns\n",
    "    df_final = df_pivot[['ts', 'visitors', 'park']]\n",
    "\n",
    "    df_visit = pd.concat([df_visit, df_final], ignore_index=True)"
   ]
  },
  {
   "cell_type": "code",
   "execution_count": 100,
   "id": "6840733b",
   "metadata": {},
   "outputs": [],
   "source": [
    "#clean data types\n",
    "df_visit = df_visit.convert_dtypes()"
   ]
  },
  {
   "cell_type": "markdown",
   "id": "d7b1bbf6",
   "metadata": {},
   "source": [
    "# Exploratory Data Analysis"
   ]
  },
  {
   "cell_type": "markdown",
   "id": "12e8ba9f",
   "metadata": {},
   "source": [
    "We have data starting in 1979 for each park. Each has a monthly observation through March 2024"
   ]
  },
  {
   "cell_type": "code",
   "execution_count": 116,
   "id": "6ba264da",
   "metadata": {},
   "outputs": [
    {
     "data": {
      "text/html": [
       "<div>\n",
       "<style scoped>\n",
       "    .dataframe tbody tr th:only-of-type {\n",
       "        vertical-align: middle;\n",
       "    }\n",
       "\n",
       "    .dataframe tbody tr th {\n",
       "        vertical-align: top;\n",
       "    }\n",
       "\n",
       "    .dataframe thead th {\n",
       "        text-align: right;\n",
       "    }\n",
       "</style>\n",
       "<table border=\"1\" class=\"dataframe\">\n",
       "  <thead>\n",
       "    <tr style=\"text-align: right;\">\n",
       "      <th></th>\n",
       "      <th>tot_visitors</th>\n",
       "      <th>ts_min</th>\n",
       "      <th>ts_max</th>\n",
       "      <th>tot_months</th>\n",
       "    </tr>\n",
       "    <tr>\n",
       "      <th>park</th>\n",
       "      <th></th>\n",
       "      <th></th>\n",
       "      <th></th>\n",
       "      <th></th>\n",
       "    </tr>\n",
       "  </thead>\n",
       "  <tbody>\n",
       "    <tr>\n",
       "      <th>Zion</th>\n",
       "      <td>119799075</td>\n",
       "      <td>1979-01-01</td>\n",
       "      <td>2024-03-01</td>\n",
       "      <td>543</td>\n",
       "    </tr>\n",
       "    <tr>\n",
       "      <th>Bryce Canyon</th>\n",
       "      <td>54430540</td>\n",
       "      <td>1979-01-01</td>\n",
       "      <td>2024-03-01</td>\n",
       "      <td>543</td>\n",
       "    </tr>\n",
       "    <tr>\n",
       "      <th>Arches</th>\n",
       "      <td>39894589</td>\n",
       "      <td>1979-01-01</td>\n",
       "      <td>2024-03-01</td>\n",
       "      <td>543</td>\n",
       "    </tr>\n",
       "    <tr>\n",
       "      <th>Capitol Reef</th>\n",
       "      <td>30093495</td>\n",
       "      <td>1979-01-01</td>\n",
       "      <td>2024-03-01</td>\n",
       "      <td>543</td>\n",
       "    </tr>\n",
       "    <tr>\n",
       "      <th>Canyonlands</th>\n",
       "      <td>18593469</td>\n",
       "      <td>1979-01-01</td>\n",
       "      <td>2024-03-01</td>\n",
       "      <td>543</td>\n",
       "    </tr>\n",
       "  </tbody>\n",
       "</table>\n",
       "</div>"
      ],
      "text/plain": [
       "              tot_visitors     ts_min     ts_max  tot_months\n",
       "park                                                        \n",
       "Zion             119799075 1979-01-01 2024-03-01         543\n",
       "Bryce Canyon      54430540 1979-01-01 2024-03-01         543\n",
       "Arches            39894589 1979-01-01 2024-03-01         543\n",
       "Capitol Reef      30093495 1979-01-01 2024-03-01         543\n",
       "Canyonlands       18593469 1979-01-01 2024-03-01         543"
      ]
     },
     "execution_count": 116,
     "metadata": {},
     "output_type": "execute_result"
    }
   ],
   "source": [
    "\n",
    "(\n",
    "    df_visit\n",
    "    .groupby('park')\n",
    "    .agg(\n",
    "        tot_visitors=('visitors', 'sum'),\n",
    "        ts_min=('ts', 'min'),\n",
    "        ts_max=('ts', 'max'),\n",
    "        tot_months=('ts', 'count')\n",
    "    )\n",
    "    .sort_values('tot_visitors', ascending=False)\n",
    ")"
   ]
  },
  {
   "cell_type": "code",
   "execution_count": 165,
   "id": "ef051b42",
   "metadata": {},
   "outputs": [
    {
     "data": {
      "text/plain": [
       "<Figure size 800x600 with 0 Axes>"
      ]
     },
     "metadata": {},
     "output_type": "display_data"
    },
    {
     "data": {
      "image/png": "[encoded data removed]",
      "text/plain": [
       "<Figure size 640x480 with 1 Axes>"
      ]
     },
     "metadata": {},
     "output_type": "display_data"
    }
   ],
   "source": [
    "visits_by_year = (\n",
    "    df_visit\n",
    "    .groupby(df_visit['ts'].dt.year)\n",
    "    .agg(\n",
    "        tot_visitors=('visitors', 'sum')\n",
    "    )\n",
    "    .reset_index()\n",
    "    .rename(columns={'ts':'year'})\n",
    ")\n",
    "\n",
    "# Create the bar plot\n",
    "plt.figure(figsize=(8, 6))  # Adjust figure size (optional)\n",
    "visits_by_year.plot(kind='bar', x='year', y='tot_visitors')\n",
    "\n",
    "# Customize the plot (optional)\n",
    "plt.xlabel('Year')\n",
    "plt.ylabel('Visits')\n",
    "plt.title('Visits per Year')\n",
    "\n",
    "plt.xticks([1979, 1989, 1999, 2009, 2019])\n",
    "\n",
    "# Display the plot\n",
    "plt.show()\n",
    "\n"
   ]
  },
  {
   "cell_type": "code",
   "execution_count": 159,
   "id": "7d9b3caa",
   "metadata": {},
   "outputs": [
    {
     "data": {
      "text/plain": [
       "array([1979, 1984, 1989, 1994, 1999, 2004, 2009, 2014, 2019, 2024])"
      ]
     },
     "execution_count": 159,
     "metadata": {},
     "output_type": "execute_result"
    }
   ],
   "source": [
    "visits_by_year['year'].unique()[::5]"
   ]
  },
  {
   "cell_type": "code",
   "execution_count": 168,
   "id": "b9afa36a",
   "metadata": {},
   "outputs": [
    {
     "data": {
      "text/plain": [
       "pandas.core.frame.DataFrame"
      ]
     },
     "execution_count": 168,
     "metadata": {},
     "output_type": "execute_result"
    }
   ],
   "source": [
    "type(visits_by_year)"
   ]
  },
  {
   "cell_type": "code",
   "execution_count": null,
   "id": "3c942ef4",
   "metadata": {},
   "outputs": [],
   "source": []
  }
 ],
 "metadata": {
  "kernelspec": {
   "display_name": "Python 3 (ipykernel)",
   "language": "python",
   "name": "python3"
  },
  "language_info": {
   "codemirror_mode": {
    "name": "ipython",
    "version": 3
   },
   "file_extension": ".py",
   "mimetype": "text/x-python",
   "name": "python",
   "nbconvert_exporter": "python",
   "pygments_lexer": "ipython3",
   "version": "3.7.0"
  },
  "toc": {
   "base_numbering": 1,
   "nav_menu": {},
   "number_sections": true,
   "sideBar": true,
   "skip_h1_title": false,
   "title_cell": "Table of Contents",
   "title_sidebar": "Contents",
   "toc_cell": false,
   "toc_position": {},
   "toc_section_display": true,
   "toc_window_display": false
  },
  "varInspector": {
   "cols": {
    "lenName": 16,
    "lenType": 16,
    "lenVar": 40
   },
   "kernels_config": {
    "python": {
     "delete_cmd_postfix": "",
     "delete_cmd_prefix": "del ",
     "library": "var_list.py",
     "varRefreshCmd": "print(var_dic_list())"
    },
    "r": {
     "delete_cmd_postfix": ") ",
     "delete_cmd_prefix": "rm(",
     "library": "var_list.r",
     "varRefreshCmd": "cat(var_dic_list()) "
    }
   },
   "types_to_exclude": [
    "module",
    "function",
    "builtin_function_or_method",
    "instance",
    "_Feature"
   ],
   "window_display": false
  }
 },
 "nbformat": 4,
 "nbformat_minor": 5
}
