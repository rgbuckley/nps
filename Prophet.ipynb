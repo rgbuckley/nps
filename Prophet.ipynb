{
 "cells": [
  {
   "cell_type": "markdown",
   "metadata": {
    "application/vnd.databricks.v1+cell": {
     "cellMetadata": {},
     "inputWidgets": {},
     "nuid": "ecc372b0-2117-48a6-9078-442b60f61d26",
     "showTitle": false,
     "title": ""
    }
   },
   "source": [
    "Forecast Annual Visition at Utah National Parks"
   ]
  },
  {
   "cell_type": "code",
   "execution_count": 0,
   "metadata": {
    "application/vnd.databricks.v1+cell": {
     "cellMetadata": {},
     "inputWidgets": {},
     "nuid": "73b6c1d7-98eb-4395-a96a-d1d0d7f3a872",
     "showTitle": false,
     "title": ""
    }
   },
   "outputs": [],
   "source": [
    "import pandas as pd\n",
    "import os\n",
    "import datetime as dt\n",
    "import matplotlib.pyplot as plt"
   ]
  },
  {
   "cell_type": "markdown",
   "metadata": {
    "application/vnd.databricks.v1+cell": {
     "cellMetadata": {},
     "inputWidgets": {},
     "nuid": "47462e8c-eda8-4637-9100-7c02ab64988b",
     "showTitle": false,
     "title": ""
    }
   },
   "source": [
    "# Ingest Data"
   ]
  },
  {
   "cell_type": "markdown",
   "metadata": {
    "application/vnd.databricks.v1+cell": {
     "cellMetadata": {},
     "inputWidgets": {},
     "nuid": "995cad00-916f-4eed-a75b-712882e31cce",
     "showTitle": false,
     "title": ""
    }
   },
   "source": [
    "Visition data for each park is stored in its own csv file. We collect all data into a single pandas dataframe"
   ]
  },
  {
   "cell_type": "code",
   "execution_count": 0,
   "metadata": {
    "application/vnd.databricks.v1+cell": {
     "cellMetadata": {},
     "inputWidgets": {},
     "nuid": "43d068f0-2bdc-4dbb-934b-8772fe424a6c",
     "showTitle": false,
     "title": ""
    }
   },
   "outputs": [],
   "source": [
    "#all files in directory\n",
    "all_files = os.listdir()\n",
    "\n",
    "#just the csv's with data\n",
    "csv_files = [file for file in all_files if file.endswith(\".csv\")]"
   ]
  },
  {
   "cell_type": "code",
   "execution_count": 0,
   "metadata": {
    "application/vnd.databricks.v1+cell": {
     "cellMetadata": {},
     "inputWidgets": {},
     "nuid": "c8a9a2be-99e0-4b88-b3ae-db3eda77607c",
     "showTitle": false,
     "title": ""
    }
   },
   "outputs": [],
   "source": [
    "#initialize the final dataset and types\n",
    "\n",
    "#set columns and types\n",
    "data = ['ts', 'visitors', 'park']\n",
    "\n",
    "#make dataframe\n",
    "df_visit = pd.DataFrame(columns=data)"
   ]
  },
  {
   "cell_type": "code",
   "execution_count": 0,
   "metadata": {
    "application/vnd.databricks.v1+cell": {
     "cellMetadata": {},
     "inputWidgets": {},
     "nuid": "7ef45ee7-0819-4145-bb5d-58e35e998399",
     "showTitle": false,
     "title": ""
    }
   },
   "outputs": [],
   "source": [
    "#loop through datasets\n",
    "\n",
    "for f in csv_files:\n",
    "\n",
    "    #extract name of park from data\n",
    "    park_name = pd.read_csv(f, nrows=1).iloc[0,0]\n",
    "    #trim the ' NP' from park name\n",
    "    park_name = park_name[:-3]\n",
    "\n",
    "    #read data\n",
    "    df = pd.read_csv(f, skiprows=3)\n",
    "    #drop last column since it's a row-wise sum\n",
    "    df.drop(df.columns[-1], axis=1, inplace=True)\n",
    "    #rename id column\n",
    "    df.rename(columns={'Year':'year'}, inplace=True)\n",
    "\n",
    "    #pivot data\n",
    "    df_pivot = df.melt(id_vars='year', var_name='month_abbr', value_name='visitors').dropna()\n",
    "\n",
    "    #clean data\n",
    "    #extract month number from month name\n",
    "    def extract_month_number(month_name):\n",
    "        return pd.to_datetime(month_name, format='%b').month\n",
    "    \n",
    "    df_pivot['month_num'] = df_pivot['month_abbr'].apply(extract_month_number)\n",
    "    #make timestamp\n",
    "    df_pivot['ts'] = pd.to_datetime(dict(year=df_pivot.year, month=df_pivot.month_num, day=1))\n",
    "    #convert visitors to numeric\n",
    "    df_pivot['visitors'] = pd.to_numeric(df_pivot['visitors'].str.replace(',', ''))\n",
    "    #add park identifier\n",
    "    df_pivot['park'] = park_name\n",
    "    #select needed columns\n",
    "    df_final = df_pivot[['ts', 'visitors', 'park']]\n",
    "\n",
    "    df_visit = pd.concat([df_visit, df_final], ignore_index=True)"
   ]
  },
  {
   "cell_type": "code",
   "execution_count": 0,
   "metadata": {
    "application/vnd.databricks.v1+cell": {
     "cellMetadata": {},
     "inputWidgets": {},
     "nuid": "c53316dc-ba7a-466b-80db-50035ec915a9",
     "showTitle": false,
     "title": ""
    }
   },
   "outputs": [],
   "source": [
    "#clean data types\n",
    "df_visit = df_visit.convert_dtypes()"
   ]
  },
  {
   "cell_type": "markdown",
   "metadata": {
    "application/vnd.databricks.v1+cell": {
     "cellMetadata": {},
     "inputWidgets": {},
     "nuid": "d8b89db9-4370-4283-9ad2-633b3d66623f",
     "showTitle": false,
     "title": ""
    }
   },
   "source": [
    "# Exploratory Data Analysis"
   ]
  },
  {
   "cell_type": "code",
   "execution_count": 0,
   "metadata": {
    "application/vnd.databricks.v1+cell": {
     "cellMetadata": {},
     "inputWidgets": {},
     "nuid": "1f08bdb0-2f99-4797-9536-7f65ea841052",
     "showTitle": false,
     "title": ""
    }
   },
   "outputs": [],
   "source": [
    "#set colors\n",
    "#use brand colors of Mighty 5 campaign (https://www.visitutah.com/places-to-go/parks-outdoors/the-mighty-5)\n",
    "orange = '#ed6417'\n",
    "d_blue = '#012d50'\n",
    "red = '#772116'\n",
    "l_blue = '#51b8f3'\n",
    "gray = '#516c85'\n",
    "\n",
    "colors = [orange, d_blue, red, l_blue, gray]\n",
    "\n"
   ]
  },
  {
   "cell_type": "markdown",
   "metadata": {
    "application/vnd.databricks.v1+cell": {
     "cellMetadata": {},
     "inputWidgets": {},
     "nuid": "2ac2c52f-0bff-430a-a9ce-576332ec399a",
     "showTitle": false,
     "title": ""
    }
   },
   "source": [
    "We have data starting in 1979 for each park. Each has a monthly observation through March 2024"
   ]
  },
  {
   "cell_type": "code",
   "execution_count": 0,
   "metadata": {
    "application/vnd.databricks.v1+cell": {
     "cellMetadata": {},
     "inputWidgets": {},
     "nuid": "717c4603-fd40-477d-8f9c-5be136d53739",
     "showTitle": false,
     "title": ""
    }
   },
   "outputs": [],
   "source": [
    "\n",
    "(\n",
    "    df_visit\n",
    "    .groupby('park')\n",
    "    .agg(\n",
    "        tot_visitors=('visitors', 'sum'),\n",
    "        ts_min=('ts', 'min'),\n",
    "        ts_max=('ts', 'max'),\n",
    "        tot_months=('ts', 'count')\n",
    "    )\n",
    "    .sort_values('tot_visitors', ascending=False)\n",
    ")"
   ]
  },
  {
   "cell_type": "markdown",
   "metadata": {
    "application/vnd.databricks.v1+cell": {
     "cellMetadata": {},
     "inputWidgets": {},
     "nuid": "31d60e83-6143-4762-92f3-f6f446e2a100",
     "showTitle": false,
     "title": ""
    }
   },
   "source": [
    "Visitation grew in the late 80's and stabilized for about 20 years. It then spiked in the 2010's with the Mighty 5 campaign.\n",
    "\n",
    "There was a dip in 2020 due to covid retrictions"
   ]
  },
  {
   "cell_type": "code",
   "execution_count": 0,
   "metadata": {
    "application/vnd.databricks.v1+cell": {
     "cellMetadata": {},
     "inputWidgets": {},
     "nuid": "890bba13-56b1-455a-b809-1c5c2208bd0c",
     "showTitle": false,
     "title": ""
    }
   },
   "outputs": [],
   "source": [
    "visits_by_year = (\n",
    "    df_visit\n",
    "    .loc[(df_visit['ts'].dt.year < 2024)] #filter current year since it's incomplete\n",
    "    .groupby(df_visit['ts'].dt.year)\n",
    "    .agg(\n",
    "        tot_visitors=('visitors', 'sum')\n",
    "    )\n",
    "    .reset_index()\n",
    "    .rename(columns={'ts':'year'})\n",
    ")\n",
    "\n",
    "visits_by_year['ms_visitors'] = visits_by_year['tot_visitors'] / 1000000 #get M's\n",
    "\n",
    "# Create the bar plot\n",
    "fig, ax = plt.subplots(figsize=(10,4))\n",
    "\n",
    "ax.bar(visits_by_year['year'], visits_by_year['ms_visitors'], color=[orange])\n",
    "\n",
    "ax.set_title(\n",
    "    'Total Visits by Year (M\\'s)',\n",
    "    fontsize=14,\n",
    "    loc='left'\n",
    ")\n",
    "\n",
    "# Display the plot\n",
    "plt.show()"
   ]
  },
  {
   "cell_type": "markdown",
   "metadata": {
    "application/vnd.databricks.v1+cell": {
     "cellMetadata": {},
     "inputWidgets": {},
     "nuid": "ce4e7703-1814-4486-8350-620d274b4d96",
     "showTitle": false,
     "title": ""
    }
   },
   "source": [
    "All parks experienced a similar growth trend in visitation.   \n",
    "The ranking of the parks has remained stable for nearly the whole dataset. Zion is almost the most visited and Canyonlands the least"
   ]
  },
  {
   "cell_type": "code",
   "execution_count": 0,
   "metadata": {
    "application/vnd.databricks.v1+cell": {
     "cellMetadata": {},
     "inputWidgets": {},
     "nuid": "5fdfbe8c-d193-4cce-908d-c9a5e5a74ae5",
     "showTitle": false,
     "title": ""
    }
   },
   "outputs": [],
   "source": [
    "visits_by_year_by_park = (\n",
    "    df_visit\n",
    "    .loc[(df_visit['ts'].dt.year < 2024)] #filter current year since it's incomplete\n",
    "    .groupby([df_visit['ts'].dt.year, 'park'])\n",
    "    .agg(\n",
    "        tot_visitors=('visitors', 'sum')\n",
    "    )\n",
    "    .reset_index()\n",
    "    .rename(columns={'ts':'year'})\n",
    ")\n",
    "\n",
    "visits_by_year_by_park['ms_visitors'] = visits_by_year_by_park['tot_visitors'] / 1000000 #get M's\n",
    "\n",
    "# Create the bar plot\n",
    "fig, ax = plt.subplots(figsize=(10,4))\n",
    "\n",
    "i=0\n",
    "\n",
    "for park, data in visits_by_year_by_park.groupby('park'):\n",
    "    ax.plot(data['year'], data['ms_visitors'], label=park, color=colors[i])\n",
    "    i+=1\n",
    "\n",
    "ax.set_title(\n",
    "    'Total Visits Over Time by Park (M\\'s)',\n",
    "    fontsize=14,\n",
    "    loc='left'\n",
    ")\n",
    "\n",
    "ax.axvline(2020, color='gray', linestyle=':')\n",
    "ax.text(2020, 5, 'Covid ', horizontalalignment='right', verticalalignment='center')\n",
    "\n",
    "ax.legend()\n",
    "\n",
    "# Display the plot\n",
    "plt.show()\n",
    "\n"
   ]
  },
  {
   "cell_type": "code",
   "execution_count": 0,
   "metadata": {
    "application/vnd.databricks.v1+cell": {
     "cellMetadata": {},
     "inputWidgets": {},
     "nuid": "b87b4209-6019-4810-8902-3feaceae69fb",
     "showTitle": false,
     "title": ""
    }
   },
   "outputs": [],
   "source": [
    "type(visits_by_year)"
   ]
  },
  {
   "cell_type": "code",
   "execution_count": 0,
   "metadata": {
    "application/vnd.databricks.v1+cell": {
     "cellMetadata": {},
     "inputWidgets": {},
     "nuid": "8ed04629-7d90-4113-81fc-3c2ead1cb50f",
     "showTitle": false,
     "title": ""
    }
   },
   "outputs": [],
   "source": []
  }
 ],
 "metadata": {
  "application/vnd.databricks.v1+notebook": {
   "dashboards": [],
   "environmentMetadata": null,
   "language": "python",
   "notebookMetadata": {
    "pythonIndentUnit": 4
   },
   "notebookName": "Prophet",
   "widgets": {}
  },
  "kernelspec": {
   "display_name": "Python 3 (ipykernel)",
   "language": "python",
   "name": "python3"
  },
  "language_info": {
   "codemirror_mode": {
    "name": "ipython",
    "version": 3
   },
   "file_extension": ".py",
   "mimetype": "text/x-python",
   "name": "python",
   "nbconvert_exporter": "python",
   "pygments_lexer": "ipython3",
   "version": "3.7.0"
  },
  "toc": {
   "base_numbering": 1,
   "nav_menu": {},
   "number_sections": true,
   "sideBar": true,
   "skip_h1_title": false,
   "title_cell": "Table of Contents",
   "title_sidebar": "Contents",
   "toc_cell": false,
   "toc_position": {},
   "toc_section_display": true,
   "toc_window_display": false
  },
  "varInspector": {
   "cols": {
    "lenName": 16,
    "lenType": 16,
    "lenVar": 40
   },
   "kernels_config": {
    "python": {
     "delete_cmd_postfix": "",
     "delete_cmd_prefix": "del ",
     "library": "var_list.py",
     "varRefreshCmd": "print(var_dic_list())"
    },
    "r": {
     "delete_cmd_postfix": ") ",
     "delete_cmd_prefix": "rm(",
     "library": "var_list.r",
     "varRefreshCmd": "cat(var_dic_list()) "
    }
   },
   "types_to_exclude": [
    "module",
    "function",
    "builtin_function_or_method",
    "instance",
    "_Feature"
   ],
   "window_display": false
  }
 },
 "nbformat": 4,
 "nbformat_minor": 0
}
