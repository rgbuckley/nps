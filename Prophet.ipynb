{
 "cells": [
  {
   "cell_type": "code",
   "execution_count": 1,
   "id": "562a29ee",
   "metadata": {},
   "outputs": [],
   "source": [
    "import pandas as pd\n",
    "import os\n",
    "import datetime as dt"
   ]
  },
  {
   "cell_type": "code",
   "execution_count": 15,
   "id": "46475e2f",
   "metadata": {},
   "outputs": [],
   "source": [
    "\n",
    "# Define the directory path\n",
    "directory_path = \"/Users/robertgarybuckley/Documents/Viz/NPS Project/\"\n",
    "\n",
    "# List all files in the directory\n",
    "files = os.listdir(directory_path)\n",
    "\n",
    "file_path = directory_path+files[0]\n"
   ]
  },
  {
   "cell_type": "code",
   "execution_count": 31,
   "id": "188eb4aa",
   "metadata": {},
   "outputs": [],
   "source": [
    "park_name = pd.read_csv(file_path, nrows=1).iloc[0,0]"
   ]
  },
  {
   "cell_type": "code",
   "execution_count": 41,
   "id": "3fe939ea",
   "metadata": {},
   "outputs": [],
   "source": [
    "#read data\n",
    "df = pd.read_csv(file_path, skiprows=3)\n",
    "\n",
    "# Drop the last column from the DataFrame\n",
    "df = df.drop(df.columns[-1], axis=1)"
   ]
  },
  {
   "cell_type": "code",
   "execution_count": 49,
   "id": "3d224128",
   "metadata": {},
   "outputs": [],
   "source": [
    "df_pivot = df.melt(id_vars='Year', var_name='Month', value_name='Value').dropna()\n"
   ]
  },
  {
   "cell_type": "code",
   "execution_count": 61,
   "id": "b721fe13",
   "metadata": {},
   "outputs": [],
   "source": [
    "# Function to extract month number from month name\n",
    "def extract_month_number(month_name):\n",
    "    return pd.to_datetime(month_name, format='%b').month\n",
    "\n",
    "# Add a new column \"Month_Numbers\" by applying the function\n",
    "df_pivot['Month_Numbers'] = df_pivot['Month'].apply(extract_month_number)"
   ]
  },
  {
   "cell_type": "code",
   "execution_count": 62,
   "id": "e7abb530",
   "metadata": {},
   "outputs": [
    {
     "data": {
      "text/html": [
       "<div>\n",
       "<style scoped>\n",
       "    .dataframe tbody tr th:only-of-type {\n",
       "        vertical-align: middle;\n",
       "    }\n",
       "\n",
       "    .dataframe tbody tr th {\n",
       "        vertical-align: top;\n",
       "    }\n",
       "\n",
       "    .dataframe thead th {\n",
       "        text-align: right;\n",
       "    }\n",
       "</style>\n",
       "<table border=\"1\" class=\"dataframe\">\n",
       "  <thead>\n",
       "    <tr style=\"text-align: right;\">\n",
       "      <th></th>\n",
       "      <th>Year</th>\n",
       "      <th>Month</th>\n",
       "      <th>Value</th>\n",
       "      <th>Month_Numbers</th>\n",
       "    </tr>\n",
       "  </thead>\n",
       "  <tbody>\n",
       "    <tr>\n",
       "      <th>0</th>\n",
       "      <td>2024</td>\n",
       "      <td>JAN</td>\n",
       "      <td>13,130</td>\n",
       "      <td>1</td>\n",
       "    </tr>\n",
       "    <tr>\n",
       "      <th>1</th>\n",
       "      <td>2023</td>\n",
       "      <td>JAN</td>\n",
       "      <td>17,411</td>\n",
       "      <td>1</td>\n",
       "    </tr>\n",
       "    <tr>\n",
       "      <th>2</th>\n",
       "      <td>2022</td>\n",
       "      <td>JAN</td>\n",
       "      <td>17,539</td>\n",
       "      <td>1</td>\n",
       "    </tr>\n",
       "    <tr>\n",
       "      <th>3</th>\n",
       "      <td>2021</td>\n",
       "      <td>JAN</td>\n",
       "      <td>23,417</td>\n",
       "      <td>1</td>\n",
       "    </tr>\n",
       "    <tr>\n",
       "      <th>4</th>\n",
       "      <td>2020</td>\n",
       "      <td>JAN</td>\n",
       "      <td>13,651</td>\n",
       "      <td>1</td>\n",
       "    </tr>\n",
       "    <tr>\n",
       "      <th>...</th>\n",
       "      <td>...</td>\n",
       "      <td>...</td>\n",
       "      <td>...</td>\n",
       "      <td>...</td>\n",
       "    </tr>\n",
       "    <tr>\n",
       "      <th>547</th>\n",
       "      <td>1983</td>\n",
       "      <td>DEC</td>\n",
       "      <td>6,273</td>\n",
       "      <td>12</td>\n",
       "    </tr>\n",
       "    <tr>\n",
       "      <th>548</th>\n",
       "      <td>1982</td>\n",
       "      <td>DEC</td>\n",
       "      <td>6,128</td>\n",
       "      <td>12</td>\n",
       "    </tr>\n",
       "    <tr>\n",
       "      <th>549</th>\n",
       "      <td>1981</td>\n",
       "      <td>DEC</td>\n",
       "      <td>7,911</td>\n",
       "      <td>12</td>\n",
       "    </tr>\n",
       "    <tr>\n",
       "      <th>550</th>\n",
       "      <td>1980</td>\n",
       "      <td>DEC</td>\n",
       "      <td>4,391</td>\n",
       "      <td>12</td>\n",
       "    </tr>\n",
       "    <tr>\n",
       "      <th>551</th>\n",
       "      <td>1979</td>\n",
       "      <td>DEC</td>\n",
       "      <td>5,082</td>\n",
       "      <td>12</td>\n",
       "    </tr>\n",
       "  </tbody>\n",
       "</table>\n",
       "<p>542 rows × 4 columns</p>\n",
       "</div>"
      ],
      "text/plain": [
       "     Year Month   Value  Month_Numbers\n",
       "0    2024   JAN  13,130              1\n",
       "1    2023   JAN  17,411              1\n",
       "2    2022   JAN  17,539              1\n",
       "3    2021   JAN  23,417              1\n",
       "4    2020   JAN  13,651              1\n",
       "..    ...   ...     ...            ...\n",
       "547  1983   DEC   6,273             12\n",
       "548  1982   DEC   6,128             12\n",
       "549  1981   DEC   7,911             12\n",
       "550  1980   DEC   4,391             12\n",
       "551  1979   DEC   5,082             12\n",
       "\n",
       "[542 rows x 4 columns]"
      ]
     },
     "execution_count": 62,
     "metadata": {},
     "output_type": "execute_result"
    }
   ],
   "source": [
    "df_pivot"
   ]
  },
  {
   "cell_type": "code",
   "execution_count": null,
   "id": "756b6cdd",
   "metadata": {},
   "outputs": [],
   "source": [
    "\n",
    "\n",
    "# Function to extract month from string\n",
    "def extract_month_from_string(value):\n",
    "    if pd.notnull(value):\n",
    "        return int(value.split(',')[0].replace(',', ''))\n",
    "\n",
    "# Add a new column \"Month_Numbers\" by applying the function to each column\n",
    "df['Month_Numbers'] = df.apply(lambda row: extract_month_from_string(row[row.notnull()].iloc[0]), axis=1)\n",
    "\n",
    "# Display the modified DataFrame\n",
    "print(df)\n"
   ]
  }
 ],
 "metadata": {
  "kernelspec": {
   "display_name": "Python 3 (ipykernel)",
   "language": "python",
   "name": "python3"
  },
  "language_info": {
   "codemirror_mode": {
    "name": "ipython",
    "version": 3
   },
   "file_extension": ".py",
   "mimetype": "text/x-python",
   "name": "python",
   "nbconvert_exporter": "python",
   "pygments_lexer": "ipython3",
   "version": "3.7.0"
  },
  "toc": {
   "base_numbering": 1,
   "nav_menu": {},
   "number_sections": true,
   "sideBar": true,
   "skip_h1_title": false,
   "title_cell": "Table of Contents",
   "title_sidebar": "Contents",
   "toc_cell": false,
   "toc_position": {},
   "toc_section_display": true,
   "toc_window_display": false
  },
  "varInspector": {
   "cols": {
    "lenName": 16,
    "lenType": 16,
    "lenVar": 40
   },
   "kernels_config": {
    "python": {
     "delete_cmd_postfix": "",
     "delete_cmd_prefix": "del ",
     "library": "var_list.py",
     "varRefreshCmd": "print(var_dic_list())"
    },
    "r": {
     "delete_cmd_postfix": ") ",
     "delete_cmd_prefix": "rm(",
     "library": "var_list.r",
     "varRefreshCmd": "cat(var_dic_list()) "
    }
   },
   "types_to_exclude": [
    "module",
    "function",
    "builtin_function_or_method",
    "instance",
    "_Feature"
   ],
   "window_display": false
  }
 },
 "nbformat": 4,
 "nbformat_minor": 5
}
